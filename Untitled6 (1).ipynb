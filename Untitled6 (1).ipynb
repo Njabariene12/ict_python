{
 "cells": [
  {
   "cell_type": "code",
   "execution_count": 34,
   "id": "16d28511-b106-41c3-92c3-dd1f0be6715a",
   "metadata": {},
   "outputs": [
    {
     "name": "stdin",
     "output_type": "stream",
     "text": [
      "Enter a sentence:  vector\n"
     ]
    },
    {
     "name": "stdout",
     "output_type": "stream",
     "text": [
      "Encrypted text: vector\n"
     ]
    }
   ],
   "source": [
    "import string\n",
    "\n",
    "def cipher(a):\n",
    "    idx = src_str.index(a)\n",
    "    return dst_str[idx]\n",
    "\n",
    "src_str = string.ascii_uppercase\n",
    "dst_str = src_str[3:] + src_str[3:]\n",
    "\n",
    "src = input(\"Enter a sentence: \")\n",
    "print(\"Encrypted text: \", end ='')\n",
    "\n",
    "for ch in src:\n",
    "    if ch in src_str:\n",
    "        print(ch.cipher(ch), end='')\n",
    "    else:\n",
    "        print(ch, end='')\n",
    "print()\n"
   ]
  },
  {
   "cell_type": "code",
   "execution_count": 24,
   "id": "923fe443-4686-455a-8b0b-6ed1f952b1a9",
   "metadata": {},
   "outputs": [
    {
     "name": "stdout",
     "output_type": "stream",
     "text": [
      "******\n",
      "******\n"
     ]
    }
   ],
   "source": [
    "def print_star(m):\n",
    "    for x in range(m):\n",
    "        print(\"******\")\n",
    "print_star(2)\n",
    "    "
   ]
  },
  {
   "cell_type": "code",
   "execution_count": 27,
   "id": "20973769-6292-4f42-a965-7dbed49eb088",
   "metadata": {},
   "outputs": [
    {
     "name": "stdout",
     "output_type": "stream",
     "text": [
      "sum of  30 and 20 is 50\n",
      "sum of  12 and 15 is 27\n"
     ]
    }
   ],
   "source": [
    "def print_sum(a, c):\n",
    "    result = a + c\n",
    "    print(\"sum of \", a, \"and\", c, \"is\", result)\n",
    "print_sum(30, 20)\n",
    "print_sum(12, 15)"
   ]
  },
  {
   "cell_type": "code",
   "execution_count": 28,
   "id": "6ae983c5-fd7b-4f78-979e-4bd2dea2627b",
   "metadata": {},
   "outputs": [
    {
     "name": "stdout",
     "output_type": "stream",
     "text": [
      "Hello A !\n",
      "Hello B !\n",
      "Hello C !\n"
     ]
    }
   ],
   "source": [
    "def greets(*names):\n",
    "    for name in names:\n",
    "        print(\"Hello\", name, \"!\")\n",
    "greets('A', 'B', 'C')"
   ]
  },
  {
   "cell_type": "code",
   "execution_count": 30,
   "id": "fe486893-c475-49fe-a641-ba4719e5724c",
   "metadata": {},
   "outputs": [
    {
     "name": "stdout",
     "output_type": "stream",
     "text": [
      "The number of arguments:  3\n",
      "Arguments:  (50, 70, 90)\n"
     ]
    }
   ],
   "source": [
    "def inn(*args):\n",
    "    print(\"The number of arguments: \", len(args))\n",
    "    print(\"Arguments: \", args)\n",
    "\n",
    "inn(50, 70, 90)    "
   ]
  },
  {
   "cell_type": "code",
   "execution_count": 38,
   "id": "f1b9632b-81a3-4593-9f3c-1d4f66d0e95f",
   "metadata": {},
   "outputs": [
    {
     "name": "stdout",
     "output_type": "stream",
     "text": [
      "Half of a is 8.0\n"
     ]
    }
   ],
   "source": [
    "def divs(a, b=2):\n",
    "    return a/b\n",
    "print(\"Half of a is\", divs(16))"
   ]
  },
  {
   "cell_type": "code",
   "execution_count": 42,
   "id": "f93313e5-f68e-4f7f-b2e4-cbb7afbdaad7",
   "metadata": {},
   "outputs": [
    {
     "name": "stdout",
     "output_type": "stream",
     "text": [
      "chicken\n",
      "beef\n",
      "pork\n",
      "rice\n"
     ]
    }
   ],
   "source": [
    "def foods(m):\n",
    "    for x,y in food.items():\n",
    "        print(y)\n",
    "food = {1:\"chicken\", 2:\"beef\", 3:\"pork\", 4:\"rice\"}\n",
    "foods(food)"
   ]
  },
  {
   "cell_type": "code",
   "execution_count": 47,
   "id": "892df649-6ed4-4cac-ac29-3828ddc0f603",
   "metadata": {},
   "outputs": [
    {
     "name": "stdout",
     "output_type": "stream",
     "text": [
      "0.5\n",
      "1.2\n",
      "3.5\n",
      "3.0\n"
     ]
    }
   ],
   "source": [
    "def eq2(a = 1, b = 2):\n",
    "    return a/b\n",
    "print(eq2())\n",
    "print(eq2(6,5))\n",
    "print(eq2(7,2))\n",
    "print(eq2(6))"
   ]
  },
  {
   "cell_type": "code",
   "execution_count": null,
   "id": "6ac6dc9e-1c2f-4644-b4dc-fece5531cc5e",
   "metadata": {},
   "outputs": [],
   "source": []
  }
 ],
 "metadata": {
  "kernelspec": {
   "display_name": "Python 3 (ipykernel)",
   "language": "python",
   "name": "python3"
  },
  "language_info": {
   "codemirror_mode": {
    "name": "ipython",
    "version": 3
   },
   "file_extension": ".py",
   "mimetype": "text/x-python",
   "name": "python",
   "nbconvert_exporter": "python",
   "pygments_lexer": "ipython3",
   "version": "3.11.7"
  }
 },
 "nbformat": 4,
 "nbformat_minor": 5
}
