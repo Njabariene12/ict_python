{
 "cells": [
  {
   "cell_type": "code",
   "execution_count": null,
   "id": "a7a9edf7-6304-442a-9469-e9ec4ae756f9",
   "metadata": {},
   "outputs": [],
   "source": [
    "ICT Cat1\n",
    "#pytho for beginners\n",
    "Name: FRANCIS KIBOI\n",
    "Adm no. 01831"
   ]
  },
  {
   "cell_type": "code",
   "execution_count": 1,
   "id": "9afbb43b-155d-4871-999b-5e403bd7f184",
   "metadata": {},
   "outputs": [
    {
     "name": "stdout",
     "output_type": "stream",
     "text": [
      "Hello World\n"
     ]
    }
   ],
   "source": [
    "#1.\n",
    "start = \"Hello World\"\n",
    "print(start)"
   ]
  },
  {
   "cell_type": "code",
   "execution_count": 2,
   "id": "b4d2c21f-7197-4994-b329-a4cad8fa75ca",
   "metadata": {},
   "outputs": [
    {
     "name": "stdin",
     "output_type": "stream",
     "text": [
      "Enter 1st number 10\n",
      "Enter 2nd number 20\n"
     ]
    },
    {
     "name": "stdout",
     "output_type": "stream",
     "text": [
      "30\n"
     ]
    }
   ],
   "source": [
    "#2.\n",
    "a = int(input(\"Enter 1st number\" ))\n",
    "b = int(input(\"Enter 2nd number\" ))\n",
    "total = a+b\n",
    "print(total)"
   ]
  },
  {
   "cell_type": "code",
   "execution_count": 4,
   "id": "d711588f-2404-4702-9588-876cc85b4345",
   "metadata": {},
   "outputs": [
    {
     "name": "stdout",
     "output_type": "stream",
     "text": [
      "30\n"
     ]
    }
   ],
   "source": [
    "#3.\n",
    "l1 = [13,20,30]\n",
    "large = max(l1)\n",
    "print(large)\n"
   ]
  },
  {
   "cell_type": "code",
   "execution_count": 6,
   "id": "bd438cd6-0070-4a3a-9292-d2c32268a8fa",
   "metadata": {},
   "outputs": [
    {
     "name": "stdout",
     "output_type": "stream",
     "text": [
      "odd\n"
     ]
    }
   ],
   "source": [
    "#4.\n",
    "n = 3\n",
    "if n%2==0:\n",
    "    print(\"even\")\n",
    "else:\n",
    "    print(\"odd\")"
   ]
  },
  {
   "cell_type": "code",
   "execution_count": 8,
   "id": "f5ac2196-aa01-4cdf-b001-dac3972c5dcb",
   "metadata": {},
   "outputs": [
    {
     "name": "stdout",
     "output_type": "stream",
     "text": [
      "10\n"
     ]
    }
   ],
   "source": [
    "#5.\n",
    "n = [1,2,3,4]\n",
    "s = 0\n",
    "for i in n:\n",
    "    s+=i\n",
    "print(s)"
   ]
  },
  {
   "cell_type": "code",
   "execution_count": 72,
   "id": "e649a127-6259-4cf7-9e5b-2a20c869a1be",
   "metadata": {},
   "outputs": [
    {
     "name": "stdin",
     "output_type": "stream",
     "text": [
      "Getting factorial of: 5\n"
     ]
    },
    {
     "name": "stdout",
     "output_type": "stream",
     "text": [
      "The factorial for, 5 is 120\n"
     ]
    }
   ],
   "source": [
    "6. \n",
    "\n",
    "n = int(input(\"Getting factorial of:\"))\n",
    "p = 1\n",
    "for i in range(1, n+1):\n",
    "    p = p * i\n",
    "print(\"The factorial for,\", n, \"is\", p)"
   ]
  },
  {
   "cell_type": "code",
   "execution_count": 17,
   "id": "6affc339-ebb8-4efa-8b64-b1557dc08a5c",
   "metadata": {},
   "outputs": [
    {
     "name": "stdout",
     "output_type": "stream",
     "text": [
      "knarf\n"
     ]
    }
   ],
   "source": [
    "7.\n",
    "p2 = \"frank\"\n",
    "\n",
    "pr = \"\"\n",
    "for i in p2:\n",
    "    pr = i + pr\n",
    "print(pr)"
   ]
  },
  {
   "cell_type": "code",
   "execution_count": 33,
   "id": "f8d0a6db-d130-4aff-b8da-5ef533d5cf23",
   "metadata": {},
   "outputs": [
    {
     "name": "stdin",
     "output_type": "stream",
     "text": [
      "multiply table of..  5\n"
     ]
    },
    {
     "name": "stdout",
     "output_type": "stream",
     "text": [
      "1 * 5 = 5\n",
      "2 * 5 = 10\n",
      "3 * 5 = 15\n",
      "4 * 5 = 20\n"
     ]
    }
   ],
   "source": [
    "#8.\n",
    "t= int(input(\"multiply table of.. \"))\n",
    "\n",
    "for i in range(1, t):\n",
    "    m = i*t\n",
    "    print(i,\"*\",t, \"=\",m)\n"
   ]
  },
  {
   "cell_type": "code",
   "execution_count": 18,
   "id": "23f7cd18-4f62-4f09-b83f-738d0963219c",
   "metadata": {},
   "outputs": [
    {
     "name": "stdout",
     "output_type": "stream",
     "text": [
      "1\n"
     ]
    }
   ],
   "source": [
    "#9.\n",
    "l2 = [1,2,3,4,]\n",
    "print(min(l2))"
   ]
  },
  {
   "cell_type": "code",
   "execution_count": 65,
   "id": "a122a176-bc76-4f99-abaa-7b09a5408fba",
   "metadata": {},
   "outputs": [
    {
     "name": "stdin",
     "output_type": "stream",
     "text": [
      "Enter a word.. sos\n"
     ]
    },
    {
     "name": "stdout",
     "output_type": "stream",
     "text": [
      "It's not\n",
      "It's not\n",
      "it's a palindrome\n",
      "\n"
     ]
    }
   ],
   "source": [
    "#10.\n",
    "p4 = input(\"Enter a word..\")\n",
    "\n",
    "pr = \"\"\n",
    "for i in p4:\n",
    "    pr = i + pr\n",
    "    if pr == p4:\n",
    "        print(\"it's a palindrome\")\n",
    "    else:\n",
    "        print(\"It's not\")\n",
    "print()"
   ]
  },
  {
   "cell_type": "code",
   "execution_count": 27,
   "id": "e8c84e46-e518-469d-9f0d-7a28e073d554",
   "metadata": {},
   "outputs": [
    {
     "name": "stdout",
     "output_type": "stream",
     "text": [
      "2\n"
     ]
    }
   ],
   "source": [
    "#11.\n",
    "word = \"apple\"\n",
    "count = 0\n",
    "for i in word:\n",
    "    if i in \"a,e,i,o,u\":\n",
    "        count += 1\n",
    "print(count)"
   ]
  },
  {
   "cell_type": "code",
   "execution_count": 32,
   "id": "35e55029-992c-465f-8468-ae9b070d039d",
   "metadata": {},
   "outputs": [
    {
     "name": "stdout",
     "output_type": "stream",
     "text": [
      "[1, 4, 9, 16, 25, 36, 49, 64, 81, 100]\n"
     ]
    }
   ],
   "source": [
    "#12.\n",
    "sq = [i**2 for i in range(1,11)]\n",
    "print(sq)"
   ]
  },
  {
   "cell_type": "code",
   "execution_count": 34,
   "id": "a7bc4916-e560-4af3-ab76-58bc418682f9",
   "metadata": {},
   "outputs": [
    {
     "name": "stdout",
     "output_type": "stream",
     "text": [
      "[1, 2, 3, 4, 5, 6, 7, 8]\n"
     ]
    }
   ],
   "source": [
    "#13.\n",
    "l2 = [1,2,3,4]\n",
    "l3 = [5,6,7,8]\n",
    "l2.extend(l3)\n",
    "print(l2)"
   ]
  },
  {
   "cell_type": "code",
   "execution_count": 38,
   "id": "ae78262c-5c91-4e46-9034-b507b8702cff",
   "metadata": {},
   "outputs": [
    {
     "name": "stdin",
     "output_type": "stream",
     "text": [
      "Check if this number is in the list  45\n"
     ]
    },
    {
     "name": "stdout",
     "output_type": "stream",
     "text": [
      "Here it is  45\n"
     ]
    }
   ],
   "source": [
    "#14.\n",
    "l4 = [2,3,4,45,6,78]\n",
    "q = int(input(\"Check if this number is in the list \" ))\n",
    "if q in l4:\n",
    "    print(\"Here it is \",q)\n",
    "else:\n",
    "    print(\"Sorry we don't have that\")"
   ]
  },
  {
   "cell_type": "code",
   "execution_count": 45,
   "id": "0590dab9-3dfd-435b-b61a-401a07f78597",
   "metadata": {},
   "outputs": [
    {
     "name": "stdout",
     "output_type": "stream",
     "text": [
      "sum of numbers is..  10\n",
      "And the average is..  2.5\n"
     ]
    }
   ],
   "source": [
    "#15.\n",
    "l2 = [1,2,3,4]\n",
    "s1 = 0\n",
    "for i in l2:\n",
    "    s1+=i\n",
    "    av = s1/(len(l2))\n",
    "print(\"sum of numbers is.. \",s1)\n",
    "print(\"And the average is.. \",av)\n",
    "    "
   ]
  },
  {
   "cell_type": "code",
   "execution_count": 48,
   "id": "69664346-a6a7-4c57-af45-e2307f5e45db",
   "metadata": {},
   "outputs": [
    {
     "name": "stdout",
     "output_type": "stream",
     "text": [
      "2\n",
      "4\n",
      "6\n",
      "8\n"
     ]
    }
   ],
   "source": [
    ".#16\n",
    "l5 = [2,3,4,5,6,8,9,7]\n",
    "\n",
    "for i in l5:\n",
    "    if i%2==0:\n",
    "        print(i)"
   ]
  },
  {
   "cell_type": "code",
   "execution_count": 49,
   "id": "4f52d665-b380-44e8-96f4-4772d7f52307",
   "metadata": {},
   "outputs": [
    {
     "name": "stdout",
     "output_type": "stream",
     "text": [
      "[1, 2, 4, 5, 6, 23]\n"
     ]
    }
   ],
   "source": [
    "#17.\n",
    "l6 = [1,2,2,2,23,4,5,6,6]\n",
    "\n",
    "new = list(set(l6))\n",
    "print(new)"
   ]
  },
  {
   "cell_type": "code",
   "execution_count": 51,
   "id": "d852f10f-737d-419e-a343-fa9822f7f304",
   "metadata": {},
   "outputs": [
    {
     "name": "stdout",
     "output_type": "stream",
     "text": [
      "None\n"
     ]
    }
   ],
   "source": [
    "#18.\n",
    "l7 = [\"abel\", \"Tom\", \"Simon\", \"Gaara\"]\n",
    "l8 = l7.sort()\n",
    "print(l8)"
   ]
  },
  {
   "cell_type": "code",
   "execution_count": 54,
   "id": "8185a62f-8380-43ca-a10b-66716a7f96d6",
   "metadata": {},
   "outputs": [
    {
     "name": "stdin",
     "output_type": "stream",
     "text": [
      "Enter the character you want to count..  p\n"
     ]
    },
    {
     "name": "stdout",
     "output_type": "stream",
     "text": [
      "2\n"
     ]
    }
   ],
   "source": [
    "#19.\n",
    "l9 = \"apple\"\n",
    "sel= input(\"Enter the character you want to count.. \")\n",
    "cn = 0\n",
    "for i in l9:\n",
    "    if i in sel:\n",
    "        cn+=1\n",
    "print(cn)"
   ]
  },
  {
   "cell_type": "code",
   "execution_count": 57,
   "id": "7502997b-6504-4a52-b451-838912ec2829",
   "metadata": {},
   "outputs": [
    {
     "name": "stdin",
     "output_type": "stream",
     "text": [
      "Enter your sentence  \"Kendrick euphoria the best\"\n"
     ]
    },
    {
     "name": "stdout",
     "output_type": "stream",
     "text": [
      "['\"Kendrick', 'euphoria', 'the', 'best\"']\n",
      "[9, 8, 3, 5]\n"
     ]
    }
   ],
   "source": [
    "#20.\n",
    "l10 = input(\"Enter your sentence \")\n",
    "l11 = l10.split()\n",
    "print(l11)\n",
    "\n",
    "lengths = list(map(len, l11))\n",
    "print(lengths)"
   ]
  }
 ],
 "metadata": {
  "kernelspec": {
   "display_name": "Python 3 (ipykernel)",
   "language": "python",
   "name": "python3"
  },
  "language_info": {
   "codemirror_mode": {
    "name": "ipython",
    "version": 3
   },
   "file_extension": ".py",
   "mimetype": "text/x-python",
   "name": "python",
   "nbconvert_exporter": "python",
   "pygments_lexer": "ipython3",
   "version": "3.11.7"
  }
 },
 "nbformat": 4,
 "nbformat_minor": 5
}
