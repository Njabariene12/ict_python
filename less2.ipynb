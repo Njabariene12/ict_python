{
 "cells": [
  {
   "cell_type": "code",
   "execution_count": 1,
   "id": "d9b2d304-d06f-4cb2-8a94-8fc6a9934fe7",
   "metadata": {},
   "outputs": [
    {
     "name": "stdout",
     "output_type": "stream",
     "text": [
      "  *\n",
      " ***\n",
      "*****\n"
     ]
    }
   ],
   "source": [
    "a= \"*\"\n",
    "b = \" \" * 2 + a\n",
    "c = \" \" + (a * 3)\n",
    "d = a * 5\n",
    "print(b + \"\\n\" + c + \"\\n\" + d)\n"
   ]
  },
  {
   "cell_type": "code",
   "execution_count": 3,
   "id": "d86a1b35-dec0-4bf1-8360-7462996ed93a",
   "metadata": {},
   "outputs": [
    {
     "name": "stdin",
     "output_type": "stream",
     "text": [
      "Enter an integer:  10\n"
     ]
    },
    {
     "name": "stdout",
     "output_type": "stream",
     "text": [
      "5.0\n"
     ]
    }
   ],
   "source": [
    "n = int(input('Enter an integer: '))\n",
    "p = n/2\n",
    "print(p)"
   ]
  },
  {
   "cell_type": "code",
   "execution_count": 4,
   "id": "74433951-246a-4556-a00f-8eeb96bbabb1",
   "metadata": {},
   "outputs": [
    {
     "name": "stdin",
     "output_type": "stream",
     "text": [
      " 21\n"
     ]
    },
    {
     "name": "stdout",
     "output_type": "stream",
     "text": [
      "21 True\n"
     ]
    }
   ],
   "source": [
    "n = int(input())\n",
    "p = n%2\n",
    "print(n, bool(p))"
   ]
  },
  {
   "cell_type": "code",
   "execution_count": 5,
   "id": "c6a18170-00a8-46b7-b053-299faf72e682",
   "metadata": {},
   "outputs": [
    {
     "name": "stdin",
     "output_type": "stream",
     "text": [
      "Enter an integer:  20\n"
     ]
    },
    {
     "ename": "TypeError",
     "evalue": "unsupported operand type(s) for +: 'int' and 'str'",
     "output_type": "error",
     "traceback": [
      "\u001b[1;31m---------------------------------------------------------------------------\u001b[0m",
      "\u001b[1;31mTypeError\u001b[0m                                 Traceback (most recent call last)",
      "Cell \u001b[1;32mIn[5], line 3\u001b[0m\n\u001b[0;32m      1\u001b[0m n \u001b[38;5;241m=\u001b[39m \u001b[38;5;28mint\u001b[39m(\u001b[38;5;28minput\u001b[39m(\u001b[38;5;124m'\u001b[39m\u001b[38;5;124mEnter an integer: \u001b[39m\u001b[38;5;124m'\u001b[39m))\n\u001b[0;32m      2\u001b[0m p \u001b[38;5;241m=\u001b[39m \u001b[38;5;28mbool\u001b[39m(n\u001b[38;5;241m/\u001b[39m\u001b[38;5;241m/\u001b[39m\u001b[38;5;241m2\u001b[39m)\n\u001b[1;32m----> 3\u001b[0m \u001b[38;5;28mprint\u001b[39m(n \u001b[38;5;241m+\u001b[39m \u001b[38;5;124m\"\u001b[39m\u001b[38;5;130;01m\\n\u001b[39;00m\u001b[38;5;124m\"\u001b[39m \u001b[38;5;241m+\u001b[39m \u001b[38;5;124m\"\u001b[39m\u001b[38;5;124mIs the integer odd: \u001b[39m\u001b[38;5;124m\"\u001b[39m \u001b[38;5;241m+\u001b[39m p)\n",
      "\u001b[1;31mTypeError\u001b[0m: unsupported operand type(s) for +: 'int' and 'str'"
     ]
    }
   ],
   "source": [
    "n = int(input('Enter an integer: '))\n",
    "p = bool(n//2)\n",
    "print(n + \"\\n\" + \"Is the integer odd: \" + p)\n"
   ]
  },
  {
   "cell_type": "code",
   "execution_count": 6,
   "id": "1c160179-746d-4af4-81f2-43b9435952a7",
   "metadata": {},
   "outputs": [
    {
     "ename": "TypeError",
     "evalue": "can only concatenate str (not \"int\") to str",
     "output_type": "error",
     "traceback": [
      "\u001b[1;31m---------------------------------------------------------------------------\u001b[0m",
      "\u001b[1;31mTypeError\u001b[0m                                 Traceback (most recent call last)",
      "Cell \u001b[1;32mIn[6], line 1\u001b[0m\n\u001b[1;32m----> 1\u001b[0m \u001b[38;5;28mprint\u001b[39m(\u001b[38;5;124m\"\u001b[39m\u001b[38;5;124mone, \u001b[39m\u001b[38;5;124m\"\u001b[39m \u001b[38;5;241m+\u001b[39m \u001b[38;5;241m1\u001b[39m)\n",
      "\u001b[1;31mTypeError\u001b[0m: can only concatenate str (not \"int\") to str"
     ]
    }
   ],
   "source": [
    "print(\"one, \" + 1)\n"
   ]
  },
  {
   "cell_type": "code",
   "execution_count": 7,
   "id": "f6a9ab7e-d9f3-479f-9268-2c9b87c8db0a",
   "metadata": {},
   "outputs": [
    {
     "name": "stdin",
     "output_type": "stream",
     "text": [
      "Enter an integer:  20\n"
     ]
    },
    {
     "name": "stdout",
     "output_type": "stream",
     "text": [
      "20 True False\n"
     ]
    }
   ],
   "source": [
    "n = int(input('Enter an integer: '))\n",
    "p = n//2\n",
    "l = n%2\n",
    "print(n, bool(p), bool(l))\n",
    "\n"
   ]
  },
  {
   "cell_type": "code",
   "execution_count": 8,
   "id": "f62eab70-27ae-4028-9d73-1a2dac669040",
   "metadata": {},
   "outputs": [
    {
     "name": "stdin",
     "output_type": "stream",
     "text": [
      "Enter an integer:  20\n"
     ]
    },
    {
     "name": "stdout",
     "output_type": "stream",
     "text": [
      "20\n",
      "Is the integer odd: False\n"
     ]
    }
   ],
   "source": [
    "n = int(input('Enter an integer: '))\n",
    "p = n%2\n",
    "l = str(bool(p))\n",
    "print(str(n) + \"\\n\" + \"Is the integer odd: \" + l )\n"
   ]
  },
  {
   "cell_type": "code",
   "execution_count": 9,
   "id": "f805d581-bbce-4bee-80a6-6dc44ee0fb3a",
   "metadata": {},
   "outputs": [
    {
     "name": "stdin",
     "output_type": "stream",
     "text": [
      "Enter an integer:  21\n"
     ]
    },
    {
     "name": "stdout",
     "output_type": "stream",
     "text": [
      "Is the integer odd: True\n"
     ]
    }
   ],
   "source": [
    "n = int(input('Enter an integer: '))\n",
    "p = n%2\n",
    "l = str(bool(p))\n",
    "print(\"Is the integer odd: \" + l )\n"
   ]
  },
  {
   "cell_type": "code",
   "execution_count": 10,
   "id": "a09ae857-a027-45fa-bcd7-3a7793670b86",
   "metadata": {},
   "outputs": [
    {
     "name": "stdin",
     "output_type": "stream",
     "text": [
      " 2000\n"
     ]
    },
    {
     "name": "stdout",
     "output_type": "stream",
     "text": [
      "True\n"
     ]
    }
   ],
   "source": [
    "y = int(input())\n",
    "ly = bool(y//4)\n",
    "print(ly)\n"
   ]
  },
  {
   "cell_type": "code",
   "execution_count": 11,
   "id": "fed48f56-3cee-4536-81ef-2b7b1be021dd",
   "metadata": {},
   "outputs": [
    {
     "name": "stdin",
     "output_type": "stream",
     "text": [
      " 2001\n"
     ]
    },
    {
     "name": "stdout",
     "output_type": "stream",
     "text": [
      "True\n"
     ]
    }
   ],
   "source": [
    "y = int(input())\n",
    "ly = bool(y//4)\n",
    "print(ly)\n"
   ]
  },
  {
   "cell_type": "code",
   "execution_count": 12,
   "id": "34e7dc6c-b9c7-4853-a1e1-958794f386e9",
   "metadata": {},
   "outputs": [
    {
     "name": "stdin",
     "output_type": "stream",
     "text": [
      " 2000\n"
     ]
    },
    {
     "name": "stdout",
     "output_type": "stream",
     "text": [
      "False\n"
     ]
    }
   ],
   "source": [
    "y = int(input())\n",
    "ly = bool(y%4)\n",
    "print(ly)\n"
   ]
  },
  {
   "cell_type": "code",
   "execution_count": 13,
   "id": "fe8eb1ea-3515-48e7-8793-73079edb86dd",
   "metadata": {},
   "outputs": [
    {
     "name": "stdin",
     "output_type": "stream",
     "text": [
      " 2000\n"
     ]
    },
    {
     "name": "stdout",
     "output_type": "stream",
     "text": [
      "False\n"
     ]
    }
   ],
   "source": [
    "y = int(input())\n",
    "ly = bool(y%4 != 0)\n",
    "print(ly)"
   ]
  },
  {
   "cell_type": "code",
   "execution_count": 14,
   "id": "cb8d1d60-be5d-4b57-8afe-72d46b7d33ef",
   "metadata": {},
   "outputs": [
    {
     "name": "stdin",
     "output_type": "stream",
     "text": [
      " 2000\n"
     ]
    },
    {
     "name": "stdout",
     "output_type": "stream",
     "text": [
      "True\n"
     ]
    }
   ],
   "source": [
    "y = int(input())\n",
    "ly = bool(y//4 != 0)\n",
    "print(ly)\n"
   ]
  },
  {
   "cell_type": "code",
   "execution_count": 15,
   "id": "a62a220c-cdd8-4469-90e4-327790da85d9",
   "metadata": {},
   "outputs": [
    {
     "name": "stdin",
     "output_type": "stream",
     "text": [
      " 2001\n"
     ]
    },
    {
     "name": "stdout",
     "output_type": "stream",
     "text": [
      "True\n"
     ]
    }
   ],
   "source": [
    "y = int(input())\n",
    "ly = bool(y//4 != 0)\n",
    "print(ly)\n"
   ]
  },
  {
   "cell_type": "code",
   "execution_count": 16,
   "id": "85465a19-3e43-47c5-bba1-60a5fe0a52c6",
   "metadata": {},
   "outputs": [
    {
     "name": "stdin",
     "output_type": "stream",
     "text": [
      " 2000\n"
     ]
    },
    {
     "name": "stdout",
     "output_type": "stream",
     "text": [
      "True\n"
     ]
    }
   ],
   "source": [
    "y = int(input())\n",
    "ly = bool(y%4 ==0)\n",
    "print(ly)"
   ]
  },
  {
   "cell_type": "code",
   "execution_count": 20,
   "id": "5d7eada6-8e68-4d6c-b096-e31ff91c4174",
   "metadata": {},
   "outputs": [
    {
     "name": "stdin",
     "output_type": "stream",
     "text": [
      " 2000\n"
     ]
    },
    {
     "name": "stdout",
     "output_type": "stream",
     "text": [
      "True\n"
     ]
    }
   ],
   "source": [
    "y = int(input())\n",
    "ly = bool(y%4 == 0)\n",
    "print(ly)\n"
   ]
  },
  {
   "cell_type": "code",
   "execution_count": 22,
   "id": "bb564048-3ea6-4afc-919d-73c9295b0369",
   "metadata": {},
   "outputs": [
    {
     "name": "stdout",
     "output_type": "stream",
     "text": [
      "Youth discount\n"
     ]
    }
   ],
   "source": [
    "age = 18\n",
    "if age < 20:\n",
    "    print('Youth discount')\n",
    "    "
   ]
  },
  {
   "cell_type": "code",
   "execution_count": 34,
   "id": "3a8147aa-9c2a-426d-8f1b-2ab9e855c261",
   "metadata": {},
   "outputs": [
    {
     "name": "stdin",
     "output_type": "stream",
     "text": [
      " y\n"
     ]
    },
    {
     "ename": "ValueError",
     "evalue": "invalid literal for int() with base 10: 'y'",
     "output_type": "error",
     "traceback": [
      "\u001b[1;31m---------------------------------------------------------------------------\u001b[0m",
      "\u001b[1;31mValueError\u001b[0m                                Traceback (most recent call last)",
      "Cell \u001b[1;32mIn[34], line 2\u001b[0m\n\u001b[0;32m      1\u001b[0m age \u001b[38;5;241m=\u001b[39m \u001b[38;5;28minput\u001b[39m()\n\u001b[1;32m----> 2\u001b[0m \u001b[38;5;28;01mif\u001b[39;00m \u001b[38;5;28mtype\u001b[39m(\u001b[38;5;28mint\u001b[39m(age)):\n\u001b[0;32m      3\u001b[0m  \u001b[38;5;28mprint\u001b[39m(\u001b[38;5;124m'\u001b[39m\u001b[38;5;124mYouth discount\u001b[39m\u001b[38;5;124m'\u001b[39m)\n",
      "\u001b[1;31mValueError\u001b[0m: invalid literal for int() with base 10: 'y'"
     ]
    }
   ],
   "source": [
    "age = input()\n",
    "if type(int(age)):\n",
    " print('Youth discount')"
   ]
  },
  {
   "cell_type": "code",
   "execution_count": 4,
   "id": "1c153054-91e2-4841-a31b-3de0007dd4a3",
   "metadata": {},
   "outputs": [
    {
     "name": "stdin",
     "output_type": "stream",
     "text": [
      " 22\n"
     ]
    },
    {
     "name": "stdout",
     "output_type": "stream",
     "text": [
      "23\n"
     ]
    }
   ],
   "source": [
    "n = int(input())\n",
    "if(n % 2 == 0 and n > 0 and n <= 100):\n",
    "    print(n + bool(n))\n",
    "else:\n",
    "    print(\"wrong\")\n"
   ]
  },
  {
   "cell_type": "code",
   "execution_count": 7,
   "id": "81e97a5b-c492-4fd5-a7aa-8c6afb25094f",
   "metadata": {},
   "outputs": [
    {
     "name": "stdin",
     "output_type": "stream",
     "text": [
      "Which side will you attack?(left, middle, right) :  right\n"
     ]
    },
    {
     "name": "stdout",
     "output_type": "stream",
     "text": [
      "Congrats: Offense succeded\n",
      "Computer Offense position: left\n"
     ]
    }
   ],
   "source": [
    "import random\n",
    "\n",
    "n = random.randint(1, 3)\n",
    "if n == 1 :\n",
    "    computer_choice = \"left\"\n",
    "elif n == 2:\n",
    "    computer_choice = \"middle\"\n",
    "else:\n",
    "    computer_choice = \"right\"\n",
    "\n",
    "user_choice = input(\"Which side will you attack?(left, middle, right) : \")\n",
    "if computer_choice == user_choice:\n",
    "    print(\"Offense failed\")\n",
    "else:\n",
    "    print(\"Congrats: Offense succeded\")\n",
    "print(\"Computer Offense position:\", computer_choice)"
   ]
  },
  {
   "cell_type": "code",
   "execution_count": 37,
   "id": "edbf461a-be06-4647-b98a-92a816ff7444",
   "metadata": {},
   "outputs": [
    {
     "name": "stdin",
     "output_type": "stream",
     "text": [
      " 344\n"
     ]
    },
    {
     "name": "stdout",
     "output_type": "stream",
     "text": [
      "It is:  344   See you tomorrow\n"
     ]
    }
   ],
   "source": [
    "user_time = int(input())\n",
    "if user_time >= 500 and user_time <= 1200:\n",
    "    greeting = \"Good morning\"\n",
    "elif user_time > 1200 and user_time <= 1600:\n",
    "    greeting = \"Good afternoon\"\n",
    "elif user_time > 1600 and user_time <= 2000:\n",
    "    greeting = \"Good evening\"\n",
    "elif user_time > 2000 and user_time <= 2400:\n",
    "    greeting = \"Good night\"\n",
    "elif user_time > 2400:\n",
    "    greeting = \"See you tomorrow\"\n",
    "else:\n",
    "    greeting = \"See you tomorrow\"\n",
    "print(\"It is: \", user_time, \" \", greeting)\n",
    "\n"
   ]
  },
  {
   "cell_type": "code",
   "execution_count": null,
   "id": "cc10ec87-67ba-4401-8d5b-b8a280b47476",
   "metadata": {},
   "outputs": [],
   "source": []
  },
  {
   "cell_type": "code",
   "execution_count": null,
   "id": "7a2b890f-7ec8-4139-a0ff-5cfb54f24f9c",
   "metadata": {},
   "outputs": [],
   "source": []
  },
  {
   "cell_type": "code",
   "execution_count": 2,
   "id": "d4b7180e-f1e6-4563-b6ce-cd12fa41860b",
   "metadata": {},
   "outputs": [
    {
     "name": "stdin",
     "output_type": "stream",
     "text": [
      " 3\n",
      " 5\n"
     ]
    },
    {
     "name": "stdout",
     "output_type": "stream",
     "text": [
      "Fruit selected:  Melon\n",
      "Price:  8000\n",
      "Quantity:  5\n",
      "Total price is:  40000 won.\n"
     ]
    },
    {
     "name": "stdin",
     "output_type": "stream",
     "text": [
      "Insert money please (ex: 5000) >>> 60000\n"
     ]
    },
    {
     "name": "stdout",
     "output_type": "stream",
     "text": [
      "60000 won received: Your change is 20000 won\n"
     ]
    }
   ],
   "source": [
    "order = int(input())\n",
    "\n",
    "if order == 1:\n",
    "    fruit = \"Apple\"\n",
    "    price = 5000   \n",
    "elif order == 2:\n",
    "    fruit = \"Grape\"\n",
    "    price = 6000    \n",
    "elif order == 3:\n",
    "    fruit = \"Melon\"\n",
    "    price = 8000    \n",
    "else:\n",
    "    fruit = \"Orange\"\n",
    "    price = 2000\n",
    "\n",
    "count = int(input())\n",
    "\n",
    "print('Fruit selected: ', fruit)\n",
    "print('Price: ', price)\n",
    "print('Quantity: ', count)\n",
    "print('Total price is: ', price * count, 'won.')\n",
    "    \n",
    "money = int(input('Insert money please (ex: 5000) >>>'))\n",
    "\n",
    "if money < price * count:\n",
    "    print('Not enough money.')\n",
    "else: \n",
    "    change = money - price * count\n",
    "    print(money, 'won received: Your change is', change, 'won')\n",
    "\n"
   ]
  },
  {
   "cell_type": "code",
   "execution_count": 3,
   "id": "c60efb8b-9c9b-4182-8379-be3dbc4d4fa7",
   "metadata": {},
   "outputs": [],
   "source": [
    "#/////////////////////"
   ]
  },
  {
   "cell_type": "code",
   "execution_count": 5,
   "id": "94317efb-b95c-46d4-adc9-70eb118daf1c",
   "metadata": {},
   "outputs": [
    {
     "name": "stdin",
     "output_type": "stream",
     "text": [
      "Enter Id:  1831\n",
      "Enter Password scict\n"
     ]
    },
    {
     "name": "stdout",
     "output_type": "stream",
     "text": [
      "Welcome\n"
     ]
    }
   ],
   "source": [
    "my_id = \"1831\"\n",
    "password = 'scict'\n",
    "string1 = input(\"Enter Id: \")\n",
    "string2 = input(\"Enter Password\")\n",
    "if string1 == my_id and string2 == password:\n",
    "    print(\"Welcome\")\n",
    "elif string1 != my_id:\n",
    "    print(\"Id not found\")\n",
    "else: \n",
    "    print(\"Password is missing\")"
   ]
  },
  {
   "cell_type": "code",
   "execution_count": 6,
   "id": "a3a028c4-1cc4-4bad-9f42-75f43063987a",
   "metadata": {},
   "outputs": [
    {
     "ename": "AttributeError",
     "evalue": "module 'random' has no attribute 'int'",
     "output_type": "error",
     "traceback": [
      "\u001b[1;31m---------------------------------------------------------------------------\u001b[0m",
      "\u001b[1;31mAttributeError\u001b[0m                            Traceback (most recent call last)",
      "Cell \u001b[1;32mIn[6], line 2\u001b[0m\n\u001b[0;32m      1\u001b[0m \u001b[38;5;28;01mimport\u001b[39;00m \u001b[38;5;21;01mrandom\u001b[39;00m\n\u001b[1;32m----> 2\u001b[0m n \u001b[38;5;241m=\u001b[39m random\u001b[38;5;241m.\u001b[39mint(\u001b[38;5;28minput\u001b[39m(\u001b[38;5;241m1\u001b[39m,\u001b[38;5;241m3\u001b[39m))\n",
      "\u001b[1;31mAttributeError\u001b[0m: module 'random' has no attribute 'int'"
     ]
    }
   ],
   "source": [
    "import random\n",
    "n = random.int(input(1,3))"
   ]
  },
  {
   "cell_type": "code",
   "execution_count": 7,
   "id": "098f4778-b33b-4cad-9aed-f992a343e27d",
   "metadata": {},
   "outputs": [
    {
     "ename": "TypeError",
     "evalue": "Kernel.raw_input() takes from 1 to 2 positional arguments but 3 were given",
     "output_type": "error",
     "traceback": [
      "\u001b[1;31m---------------------------------------------------------------------------\u001b[0m",
      "\u001b[1;31mTypeError\u001b[0m                                 Traceback (most recent call last)",
      "Cell \u001b[1;32mIn[7], line 1\u001b[0m\n\u001b[1;32m----> 1\u001b[0m n \u001b[38;5;241m=\u001b[39m random\u001b[38;5;241m.\u001b[39mrandint(\u001b[38;5;28minput\u001b[39m(\u001b[38;5;241m1\u001b[39m,\u001b[38;5;241m3\u001b[39m))\n",
      "\u001b[1;31mTypeError\u001b[0m: Kernel.raw_input() takes from 1 to 2 positional arguments but 3 were given"
     ]
    }
   ],
   "source": [
    "n = random.randint(input(1,3))"
   ]
  },
  {
   "cell_type": "code",
   "execution_count": 3,
   "id": "2a1e53ca-43ed-4178-b81a-40ed4b72308f",
   "metadata": {},
   "outputs": [
    {
     "name": "stdin",
     "output_type": "stream",
     "text": [
      "Enter the desired number for operation: 3\n"
     ]
    },
    {
     "name": "stdout",
     "output_type": "stream",
     "text": [
      "Enter 2 numbers for operation.\n"
     ]
    },
    {
     "name": "stdin",
     "output_type": "stream",
     "text": [
      "num1: 10\n",
      "num2: 20\n"
     ]
    },
    {
     "name": "stdout",
     "output_type": "stream",
     "text": [
      "10 * 20 = 200\n"
     ]
    }
   ],
   "source": [
    "n = int(input(\"Enter the desired number for operation:\"))\n",
    "if n in range (1,5):\n",
    "    print(\"Enter 2 numbers for operation.\")\n",
    "    val1 = int(input(\"num1:\"))\n",
    "    val2 = int(input(\"num2:\"))\n",
    "    if n == 1:\n",
    "        op = \"+\"\n",
    "        res = val1 + val2\n",
    "    elif n==2:\n",
    "        op = \"-\"\n",
    "        res = val1 - val2   \n",
    "    elif n==3:\n",
    "        op = \"*\"\n",
    "        res = val1 * val2    \n",
    "    elif n==4:\n",
    "        op = \"/\"\n",
    "        res = val1 / val2\n",
    "    print(val1,op,val2, \"=\", res)\n",
    "else:\n",
    "    print (\"Entered an incorrect number.\")\n",
    "    \n",
    "\n",
    "\n"
   ]
  },
  {
   "cell_type": "code",
   "execution_count": 77,
   "id": "6a6311e8-f476-4ca3-97e1-b3d47a06fc97",
   "metadata": {},
   "outputs": [
    {
     "name": "stdout",
     "output_type": "stream",
     "text": [
      "Welcome to yummy restaurant: Here is the menu.\n",
      "-Burger (enter b)\n",
      "-Chicken(enter c)\n",
      "-Pizza(enter p)\n"
     ]
    },
    {
     "name": "stdin",
     "output_type": "stream",
     "text": [
      "Choose menu (enter b,c,p): w\n",
      "Choose menu (enter b,c,p): p\n"
     ]
    },
    {
     "name": "stdout",
     "output_type": "stream",
     "text": [
      "You choose: Pizza\n"
     ]
    }
   ],
   "source": [
    "\n",
    "print(\"Welcome to yummy restaurant: Here is the menu.\" + \"\\n\" + \"-Burger (enter b)\" + \"\\n\" + \"-Chicken(enter c)\" + \"\\n\" + \"-Pizza(enter p)\")\n",
    "\n",
    "m = input(\"Choose menu (enter b,c,p):\")\n",
    "res = \"\"\n",
    "\n",
    "if m not in \"b, c, p\":\n",
    "    m = input(\"Choose menu (enter b,c,p):\")\n",
    "if m == \"b\":\n",
    "    res = \"Burger\"\n",
    "elif m == \"c\":\n",
    "    res = \"Chicken\"\n",
    "elif m == \"p\":\n",
    "    res = \"Pizza\"\n",
    "\n",
    "print(\"You choose:\", res)"
   ]
  },
  {
   "cell_type": "code",
   "execution_count": 89,
   "id": "70d48c52-1e03-48cb-9598-bff361e54978",
   "metadata": {},
   "outputs": [
    {
     "name": "stdin",
     "output_type": "stream",
     "text": [
      "input x coordinate: 6\n",
      "input y coordinate: -6\n"
     ]
    },
    {
     "name": "stdout",
     "output_type": "stream",
     "text": [
      "It's 4q\n"
     ]
    }
   ],
   "source": [
    "x = int(input(\"input x coordinate:\"))\n",
    "y = int(input(\"input y coordinate:\"))\n",
    "res =\"\"\n",
    "if x < 0 and y > 0:\n",
    "    res = \"It's 2 q\"\n",
    "elif x>0 and y>0:\n",
    "    res = \"It's 1q\"\n",
    "elif x>0 and y<0:\n",
    "    res = \"It's 4q\"\n",
    "elif x<0 and y<0:\n",
    "    res = \"It's 3q\"\n",
    "print(res)"
   ]
  },
  {
   "cell_type": "code",
   "execution_count": 94,
   "id": "a45d24ed-9d79-49ac-843b-3b15b158acd7",
   "metadata": {},
   "outputs": [
    {
     "name": "stdin",
     "output_type": "stream",
     "text": [
      "Enter the alphabet: b\n"
     ]
    },
    {
     "name": "stdout",
     "output_type": "stream",
     "text": [
      "b is a constant\n"
     ]
    }
   ],
   "source": [
    "let = input(\"Enter the alphabet:\")\n",
    "if let not in \"a,e,i,o,u\":\n",
    "    res = \" is a constant\"\n",
    "else:\n",
    "    res = \" is a vowel\"\n",
    "\n",
    "print(let + res)"
   ]
  },
  {
   "cell_type": "code",
   "execution_count": 2,
   "id": "1d4d1a17-0b63-4b3d-9c40-681858ecfd61",
   "metadata": {},
   "outputs": [
    {
     "name": "stdout",
     "output_type": "stream",
     "text": [
      "Possible combinations of David's sandwich shop\n",
      "Rye bread + Meatball + Lettuce + Mayonnaise\n",
      "Rye bread + Meatball + Lettuce + Honey Mustard\n",
      "Rye bread + Meatball + Lettuce + Chilli\n",
      "Rye bread + Meatball + Tomato + Mayonnaise\n",
      "Rye bread + Meatball + Tomato + Honey Mustard\n",
      "Rye bread + Meatball + Tomato + Chilli\n",
      "Rye bread + Meatball + Cucumber + Mayonnaise\n",
      "Rye bread + Meatball + Cucumber + Honey Mustard\n",
      "Rye bread + Meatball + Cucumber + Chilli\n",
      "Rye bread + Sausage + Lettuce + Mayonnaise\n",
      "Rye bread + Sausage + Lettuce + Honey Mustard\n",
      "Rye bread + Sausage + Lettuce + Chilli\n",
      "Rye bread + Sausage + Tomato + Mayonnaise\n",
      "Rye bread + Sausage + Tomato + Honey Mustard\n",
      "Rye bread + Sausage + Tomato + Chilli\n",
      "Rye bread + Sausage + Cucumber + Mayonnaise\n",
      "Rye bread + Sausage + Cucumber + Honey Mustard\n",
      "Rye bread + Sausage + Cucumber + Chilli\n",
      "Rye bread + Chicken breast + Lettuce + Mayonnaise\n",
      "Rye bread + Chicken breast + Lettuce + Honey Mustard\n",
      "Rye bread + Chicken breast + Lettuce + Chilli\n",
      "Rye bread + Chicken breast + Tomato + Mayonnaise\n",
      "Rye bread + Chicken breast + Tomato + Honey Mustard\n",
      "Rye bread + Chicken breast + Tomato + Chilli\n",
      "Rye bread + Chicken breast + Cucumber + Mayonnaise\n",
      "Rye bread + Chicken breast + Cucumber + Honey Mustard\n",
      "Rye bread + Chicken breast + Cucumber + Chilli\n",
      "wheat + Meatball + Lettuce + Mayonnaise\n",
      "wheat + Meatball + Lettuce + Honey Mustard\n",
      "wheat + Meatball + Lettuce + Chilli\n",
      "wheat + Meatball + Tomato + Mayonnaise\n",
      "wheat + Meatball + Tomato + Honey Mustard\n",
      "wheat + Meatball + Tomato + Chilli\n",
      "wheat + Meatball + Cucumber + Mayonnaise\n",
      "wheat + Meatball + Cucumber + Honey Mustard\n",
      "wheat + Meatball + Cucumber + Chilli\n",
      "wheat + Sausage + Lettuce + Mayonnaise\n",
      "wheat + Sausage + Lettuce + Honey Mustard\n",
      "wheat + Sausage + Lettuce + Chilli\n",
      "wheat + Sausage + Tomato + Mayonnaise\n",
      "wheat + Sausage + Tomato + Honey Mustard\n",
      "wheat + Sausage + Tomato + Chilli\n",
      "wheat + Sausage + Cucumber + Mayonnaise\n",
      "wheat + Sausage + Cucumber + Honey Mustard\n",
      "wheat + Sausage + Cucumber + Chilli\n",
      "wheat + Chicken breast + Lettuce + Mayonnaise\n",
      "wheat + Chicken breast + Lettuce + Honey Mustard\n",
      "wheat + Chicken breast + Lettuce + Chilli\n",
      "wheat + Chicken breast + Tomato + Mayonnaise\n",
      "wheat + Chicken breast + Tomato + Honey Mustard\n",
      "wheat + Chicken breast + Tomato + Chilli\n",
      "wheat + Chicken breast + Cucumber + Mayonnaise\n",
      "wheat + Chicken breast + Cucumber + Honey Mustard\n",
      "wheat + Chicken breast + Cucumber + Chilli\n",
      "white + Meatball + Lettuce + Mayonnaise\n",
      "white + Meatball + Lettuce + Honey Mustard\n",
      "white + Meatball + Lettuce + Chilli\n",
      "white + Meatball + Tomato + Mayonnaise\n",
      "white + Meatball + Tomato + Honey Mustard\n",
      "white + Meatball + Tomato + Chilli\n",
      "white + Meatball + Cucumber + Mayonnaise\n",
      "white + Meatball + Cucumber + Honey Mustard\n",
      "white + Meatball + Cucumber + Chilli\n",
      "white + Sausage + Lettuce + Mayonnaise\n",
      "white + Sausage + Lettuce + Honey Mustard\n",
      "white + Sausage + Lettuce + Chilli\n",
      "white + Sausage + Tomato + Mayonnaise\n",
      "white + Sausage + Tomato + Honey Mustard\n",
      "white + Sausage + Tomato + Chilli\n",
      "white + Sausage + Cucumber + Mayonnaise\n",
      "white + Sausage + Cucumber + Honey Mustard\n",
      "white + Sausage + Cucumber + Chilli\n",
      "white + Chicken breast + Lettuce + Mayonnaise\n",
      "white + Chicken breast + Lettuce + Honey Mustard\n",
      "white + Chicken breast + Lettuce + Chilli\n",
      "white + Chicken breast + Tomato + Mayonnaise\n",
      "white + Chicken breast + Tomato + Honey Mustard\n",
      "white + Chicken breast + Tomato + Chilli\n",
      "white + Chicken breast + Cucumber + Mayonnaise\n",
      "white + Chicken breast + Cucumber + Honey Mustard\n",
      "white + Chicken breast + Cucumber + Chilli\n"
     ]
    }
   ],
   "source": [
    "breads = [\"Rye bread\", \"wheat\", \"white\"]\n",
    "meats = [\"Meatball\", \"Sausage\", \"Chicken breast\"]\n",
    "vegis = [\"Lettuce\", \"Tomato\", \"Cucumber\"]\n",
    "sauces = [\"Mayonnaise\", \"Honey Mustard\", \"Chilli\"]\n",
    "\n",
    "print(\"Possible combinations of David's sandwich shop\")\n",
    "for b in breads:\n",
    "    for m in meats:\n",
    "        for v in vegis:\n",
    "            for s in sauces:\n",
    "                print(b + \" + \" + m + \" + \" + v + \" + \" + s)\n",
    "                "
   ]
  },
  {
   "cell_type": "code",
   "execution_count": 13,
   "id": "c61fcc23-774f-430e-98e9-25d8e37fcfa2",
   "metadata": {},
   "outputs": [
    {
     "name": "stdout",
     "output_type": "stream",
     "text": [
      "-2 Welcome everyone\n",
      "-1 Welcome everyone\n",
      "0 Welcome everyone\n",
      "1 Welcome everyone\n",
      "2 Welcome everyone\n"
     ]
    }
   ],
   "source": [
    "for i in range(-2, 3, 1):\n",
    "    print(i, \"Welcome everyone\")\n",
    "    "
   ]
  },
  {
   "cell_type": "code",
   "execution_count": 16,
   "id": "a835e969-f636-47db-9cac-68b732cbce35",
   "metadata": {},
   "outputs": [
    {
     "name": "stdout",
     "output_type": "stream",
     "text": [
      "0\n",
      "1\n"
     ]
    }
   ],
   "source": [
    "for _ in range(2):\n",
    "    print(_)"
   ]
  },
  {
   "cell_type": "code",
   "execution_count": 21,
   "id": "eac8a14e-f429-4abd-9cb5-8c3baebb4489",
   "metadata": {},
   "outputs": [
    {
     "name": "stdout",
     "output_type": "stream",
     "text": [
      "[-2, -1, 0, 1, 2, 3, 4]\n"
     ]
    }
   ],
   "source": [
    " print(list(range(-2, 5, 1)))\n"
   ]
  },
  {
   "cell_type": "code",
   "execution_count": 18,
   "id": "2f1d9a7b-d0e3-43d6-91c1-c34df6f2a85d",
   "metadata": {},
   "outputs": [
    {
     "name": "stdout",
     "output_type": "stream",
     "text": [
      "[0, 2, 4]\n"
     ]
    }
   ],
   "source": [
    "print(list(range(0,5, 2)))"
   ]
  },
  {
   "cell_type": "code",
   "execution_count": 19,
   "id": "67168b43-b4de-4d61-a413-fc7ea70db35a",
   "metadata": {},
   "outputs": [
    {
     "name": "stdout",
     "output_type": "stream",
     "text": [
      "[2, 3, 4]\n"
     ]
    }
   ],
   "source": [
    "print(list(range(2,5)))"
   ]
  },
  {
   "cell_type": "code",
   "execution_count": 22,
   "id": "fea988bc-6bce-419a-a97f-35202314f1b2",
   "metadata": {},
   "outputs": [
    {
     "name": "stdout",
     "output_type": "stream",
     "text": [
      "[0, 2, 4, 6, 8]\n"
     ]
    }
   ],
   "source": [
    "print(list(range(0, 10,2)))"
   ]
  },
  {
   "cell_type": "code",
   "execution_count": 28,
   "id": "0f7dfe2e-daf4-49d7-8440-b920e82a4fce",
   "metadata": {},
   "outputs": [
    {
     "name": "stdout",
     "output_type": "stream",
     "text": [
      "1\n",
      "3\n",
      "6\n",
      "10\n",
      "15\n",
      "21\n",
      "28\n",
      "36\n",
      "45\n",
      "55\n",
      "Sum of numbers from 1 to 10:  55\n"
     ]
    }
   ],
   "source": [
    "s = 0\n",
    "for i in range(1, 11):\n",
    "    s += i\n",
    "    print(s)\n",
    "    \n",
    "print(\"Sum of numbers from 1 to 10: \", s)"
   ]
  },
  {
   "cell_type": "code",
   "execution_count": 30,
   "id": "53e8fe29-903d-4a41-84e3-7633f92fac8f",
   "metadata": {},
   "outputs": [
    {
     "name": "stdout",
     "output_type": "stream",
     "text": [
      "The sum of numbers fro m 1to 10:  55\n"
     ]
    },
    {
     "ename": "TypeError",
     "evalue": "'int' object is not callable",
     "output_type": "error",
     "traceback": [
      "\u001b[1;31m---------------------------------------------------------------------------\u001b[0m",
      "\u001b[1;31mTypeError\u001b[0m                                 Traceback (most recent call last)",
      "Cell \u001b[1;32mIn[30], line 6\u001b[0m\n\u001b[0;32m      4\u001b[0m     \u001b[38;5;28msum\u001b[39m \u001b[38;5;241m+\u001b[39m\u001b[38;5;241m=\u001b[39m i\n\u001b[0;32m      5\u001b[0m \u001b[38;5;28mprint\u001b[39m(\u001b[38;5;124m\"\u001b[39m\u001b[38;5;124mThe sum of numbers fro m 1to 10: \u001b[39m\u001b[38;5;124m\"\u001b[39m, \u001b[38;5;28msum\u001b[39m)\n\u001b[1;32m----> 6\u001b[0m \u001b[38;5;28mprint\u001b[39m(\u001b[38;5;28msum\u001b[39m(\u001b[38;5;28mrange\u001b[39m(\u001b[38;5;241m1\u001b[39m, \u001b[38;5;241m11\u001b[39m)))\n",
      "\u001b[1;31mTypeError\u001b[0m: 'int' object is not callable"
     ]
    }
   ],
   "source": [
    "sum = 0\n",
    "\n",
    "for i in range(1, 11):\n",
    "    sum += i\n",
    "print(\"The sum of numbers fro m 1to 10: \", sum)\n",
    "print(sum(range(1, 11)))"
   ]
  },
  {
   "cell_type": "code",
   "execution_count": 39,
   "id": "fcb07d8c-7cd8-4be4-9a92-70794fc7ea0d",
   "metadata": {},
   "outputs": [
    {
     "name": "stdin",
     "output_type": "stream",
     "text": [
      " 100\n"
     ]
    },
    {
     "name": "stdout",
     "output_type": "stream",
     "text": [
      "Sum of numbers from 1 to 100 5050\n"
     ]
    }
   ],
   "source": [
    "n = int(input())\n",
    "s = 0\n",
    "for n in range(n+1):\n",
    "    s += n\n",
    "print(\"Sum of numbers from 1 to 100\", s)"
   ]
  },
  {
   "cell_type": "code",
   "execution_count": 41,
   "id": "29031e8e-1a55-4f90-9e98-433ad6e56c02",
   "metadata": {},
   "outputs": [
    {
     "name": "stdout",
     "output_type": "stream",
     "text": [
      "V\n",
      "J-Hope\n",
      "RM\n",
      "Jungkook\n",
      "Jin\n",
      "Jimin\n",
      "Suga\n"
     ]
    }
   ],
   "source": [
    "bts = [\"V\", \"J-Hope\", \"RM\", \"Jungkook\", \"Jin\", \"Jimin\", \"Suga\"]\n",
    "for n in bts:\n",
    "    print(n)"
   ]
  },
  {
   "cell_type": "code",
   "execution_count": 10,
   "id": "6f4768b7-412d-440a-9fbf-82ae8a01d5de",
   "metadata": {},
   "outputs": [
    {
     "name": "stdin",
     "output_type": "stream",
     "text": [
      "Enter a number: 5\n"
     ]
    },
    {
     "name": "stdout",
     "output_type": "stream",
     "text": [
      "5! = 120\n"
     ]
    }
   ],
   "source": [
    "n = int(input(\"Enter a number:\"))\n",
    "fact = 1\n",
    "for i in range(1, n+1):\n",
    "    fact = fact * i\n",
    "print(str(n) + \"! =\" , fact)\n"
   ]
  },
  {
   "cell_type": "code",
   "execution_count": 11,
   "id": "3de51a73-56fd-4d64-89b8-159e0499c884",
   "metadata": {},
   "outputs": [
    {
     "name": "stdout",
     "output_type": "stream",
     "text": [
      "n = 11\n",
      "n = 22\n",
      "n = 33\n",
      "n = 44\n",
      "n = 55\n",
      "n = 66\n"
     ]
    }
   ],
   "source": [
    "numbers = [11, 22, 33 , 44, 55, 66]\n",
    "for n in numbers:\n",
    "    print(\"n =\", n)"
   ]
  },
  {
   "cell_type": "code",
   "execution_count": 12,
   "id": "5975ceef-162b-4702-8fe3-251412d645bd",
   "metadata": {},
   "outputs": [
    {
     "name": "stdout",
     "output_type": "stream",
     "text": [
      "Sum of list items: 100\n"
     ]
    }
   ],
   "source": [
    "numbers = [10,20,30,40]\n",
    "print('Sum of list items:', sum(numbers))"
   ]
  },
  {
   "cell_type": "code",
   "execution_count": 15,
   "id": "a586242b-6def-478d-b9da-1c9d139cbe55",
   "metadata": {},
   "outputs": [
    {
     "name": "stdout",
     "output_type": "stream",
     "text": [
      "hello"
     ]
    }
   ],
   "source": [
    "for ch in 'hello':\n",
    "    print(ch, end = '')"
   ]
  },
  {
   "cell_type": "code",
   "execution_count": 30,
   "id": "6aed3bab-95a8-4f68-8ed0-8de8240e7963",
   "metadata": {},
   "outputs": [
    {
     "name": "stdin",
     "output_type": "stream",
     "text": [
      " te\n"
     ]
    },
    {
     "name": "stdout",
     "output_type": "stream",
     "text": [
      "My name is te"
     ]
    }
   ],
   "source": [
    "print('My name is ', end = input())"
   ]
  },
  {
   "cell_type": "code",
   "execution_count": 31,
   "id": "9d3af9ae-a919-4ba2-9ffb-f3d9c3e5fb45",
   "metadata": {},
   "outputs": [
    {
     "name": "stdout",
     "output_type": "stream",
     "text": [
      "s-e-p\n"
     ]
    }
   ],
   "source": [
    "print('s', 'e', 'p', sep='-')\n"
   ]
  },
  {
   "cell_type": "code",
   "execution_count": 34,
   "id": "aeca95ff-bf45-415a-8863-499007e89d68",
   "metadata": {},
   "outputs": [
    {
     "name": "stdout",
     "output_type": "stream",
     "text": [
      "h*e*l*l*o\n"
     ]
    }
   ],
   "source": [
    "print('h','e','l','l', 'o', sep='*')"
   ]
  },
  {
   "cell_type": "code",
   "execution_count": 40,
   "id": "3f2235b2-0d1b-45b1-b6ca-73e77bdc387f",
   "metadata": {},
   "outputs": [
    {
     "name": "stdout",
     "output_type": "stream",
     "text": [
      "Sum of all odd numbers: 2500\n"
     ]
    }
   ],
   "source": [
    "s = 0\n",
    "for i in range(1, 100, 2):\n",
    "    s += i\n",
    "print(\"Sum of all odd numbers:\", s)"
   ]
  },
  {
   "cell_type": "code",
   "execution_count": 78,
   "id": "ebe07362-05e7-461a-a5ac-76daacc4d2f9",
   "metadata": {},
   "outputs": [
    {
     "name": "stdin",
     "output_type": "stream",
     "text": [
      "Enter n: 5\n"
     ]
    },
    {
     "name": "stdout",
     "output_type": "stream",
     "text": [
      "1     2     3     4     5     \n",
      "6     7     8     9     10    \n",
      "11    12    13    14    15    \n",
      "16    17    18    19    20    \n",
      "21    22    23    24    25    \n"
     ]
    }
   ],
   "source": [
    "n = int(input(\"Enter n:\"))\n",
    "p = 0\n",
    "for i in range(1, n+1):\n",
    "    for x in range(1, n+1):\n",
    "        p += 1\n",
    "\n",
    "        sp= \" \" * 3\n",
    "        spp = \" \" * 4\n",
    "        \n",
    "        if(len(str(p)) > 1):\n",
    "            print(p, sp, end=\"\")\n",
    "        else:\n",
    "            print(p, spp, end=\"\")\n",
    "    print()"
   ]
  },
  {
   "cell_type": "code",
   "execution_count": 1,
   "id": "a2b1ee92-71e2-4886-b209-cff04ee95839",
   "metadata": {},
   "outputs": [
    {
     "name": "stdin",
     "output_type": "stream",
     "text": [
      "Enter n: 3\n"
     ]
    },
    {
     "name": "stdout",
     "output_type": "stream",
     "text": [
      "  2\n",
      " 333\n",
      "33333\n"
     ]
    }
   ],
   "source": [
    "n = int(input(\"Enter n:\"))\n",
    "p = 0\n",
    "for i in range(1, n+1):\n",
    "    for s in range(n-i):\n",
    "        p += 1\n",
    "        print(\" \", end=\"\")\n",
    "    for x in range(1, 2*i):\n",
    "        print(p, end=\"\")\n",
    "    print()\n",
    "        "
   ]
  },
  {
   "cell_type": "code",
   "execution_count": null,
   "id": "1a07e393-cdcc-4343-9455-b64f9b463794",
   "metadata": {},
   "outputs": [],
   "source": []
  }
 ],
 "metadata": {
  "kernelspec": {
   "display_name": "Python 3 (ipykernel)",
   "language": "python",
   "name": "python3"
  },
  "language_info": {
   "codemirror_mode": {
    "name": "ipython",
    "version": 3
   },
   "file_extension": ".py",
   "mimetype": "text/x-python",
   "name": "python",
   "nbconvert_exporter": "python",
   "pygments_lexer": "ipython3",
   "version": "3.11.7"
  }
 },
 "nbformat": 4,
 "nbformat_minor": 5
}
