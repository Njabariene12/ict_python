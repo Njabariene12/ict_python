{
 "cells": [
  {
   "cell_type": "code",
   "execution_count": 3,
   "id": "61559eda-52d8-408d-bad7-421e98eaec68",
   "metadata": {},
   "outputs": [
    {
     "name": "stdout",
     "output_type": "stream",
     "text": [
      "ford\n",
      "mustang\n",
      "1984\n"
     ]
    }
   ],
   "source": [
    "alex = {\"brand\": \"ford\", \"model\": \"mustang\", \"year\": \"1984\"}\n",
    "for x in alex:\n",
    "    print(alex[x])"
   ]
  },
  {
   "cell_type": "code",
   "execution_count": 7,
   "id": "e377299e-6445-4d86-8324-cc2ec5f8f733",
   "metadata": {},
   "outputs": [
    {
     "name": "stdout",
     "output_type": "stream",
     "text": [
      "brand\n",
      "model\n",
      "year\n"
     ]
    }
   ],
   "source": [
    "alexa = {\"brand\": \"ford\", \"model\": \"mustang\", \"year\": \"1984\"}\n",
    "for n in alexa:\n",
    "    print(n)"
   ]
  },
  {
   "cell_type": "code",
   "execution_count": 14,
   "id": "1499ca92-6439-4908-8ee6-8dd606074d64",
   "metadata": {},
   "outputs": [
    {
     "name": "stdout",
     "output_type": "stream",
     "text": [
      "brand ford\n",
      "model mustang\n",
      "year 1984\n"
     ]
    }
   ],
   "source": [
    "alexe = {\"brand\": \"ford\", \"model\": \"mustang\", \"year\": \"1984\"}\n",
    "for x,y in alexe.items():\n",
    "    print(x,y)"
   ]
  },
  {
   "cell_type": "code",
   "execution_count": 20,
   "id": "9cf3c732-0f2d-45db-996c-4cc6b2cf2258",
   "metadata": {},
   "outputs": [
    {
     "name": "stdout",
     "output_type": "stream",
     "text": [
      "{'brand': 'ford', 'model': 'mustang', 'year': '1984'}\n"
     ]
    }
   ],
   "source": [
    "alexo = {\"brand\": \"ford\", \"model\": \"mustang\", \"year\": \"1984\"}\n",
    "carro = alexo.copy()\n",
    "print(carro)"
   ]
  },
  {
   "cell_type": "code",
   "execution_count": 22,
   "id": "aa30a278-b34e-49cc-a4c5-73c3d7ecab7b",
   "metadata": {},
   "outputs": [
    {
     "name": "stdout",
     "output_type": "stream",
     "text": [
      "{'brand': 'ford', 'model': 'mustang', 'year': '1984'}\n"
     ]
    }
   ],
   "source": [
    "mlex = {\"brand\": \"ford\", \"model\": \"mustang\", \"year\": \"1984\"}\n",
    "sen = dict(mlex)\n",
    "print(sen)"
   ]
  },
  {
   "cell_type": "code",
   "execution_count": 30,
   "id": "80ba894d-a353-48af-934a-d2c5a7667334",
   "metadata": {},
   "outputs": [
    {
     "name": "stdout",
     "output_type": "stream",
     "text": [
      "{'child1': {'name': 'timmy', 'age': 10, 'food': 'pie'}, 'child2': {'name': 'syd', 'age': 11, 'food': 'wings'}, 'child3': {'name': 'ras', 'age': 9, 'food': 'cake'}}\n"
     ]
    }
   ],
   "source": [
    "fam1 = {\"child1\":{\"name\": \"timmy\", \"age\":10, \"food\": \"pie\"}, \"child2\":{\"name\":\"syd\", \"age\":11, \"food\": \"wings\"}, \"child3\":{\"name\":\"ras\", \"age\":9, \"food\":\"cake\"}}\n",
    "print(fam1)"
   ]
  },
  {
   "cell_type": "code",
   "execution_count": 38,
   "id": "9de53617-89fd-4f73-ba22-b45906e86e4e",
   "metadata": {
    "scrolled": true
   },
   "outputs": [
    {
     "name": "stdout",
     "output_type": "stream",
     "text": [
      "{'ag1': {'agenno': 47, 'area': 'kyiv'}, 'ag2': {'agenno': 25, 'area': 'damascus'}, 'ag3': {'agenno': 31, 'area': 'moscow'}}\n"
     ]
    }
   ],
   "source": [
    "agent1 = {\"agenno\": 47,\n",
    "          \"area\": \"kyiv\"}\n",
    "agent2 = {\"agenno\": 25,\n",
    "          \"area\": \"damascus\"}\n",
    "agent3 = {\"agenno\": 31,\n",
    "          \"area\": \"moscow\"}\n",
    "supplies = {\"ag1\": agent1,\n",
    "            \"ag2\": agent2,\n",
    "            \"ag3\": agent3}\n",
    "print(supplies)"
   ]
  },
  {
   "cell_type": "code",
   "execution_count": 89,
   "id": "d42a2538-6036-4137-9496-bd248fb8c22f",
   "metadata": {},
   "outputs": [
    {
     "name": "stdout",
     "output_type": "stream",
     "text": [
      "<class 'dict'>\n",
      "haley\n",
      "['basketball', 'reading', 'food']\n",
      "False\n"
     ]
    }
   ],
   "source": [
    "import json\n",
    "\n",
    "bio = '{\"name\": \"haley\", \"age\": 31, \"hobby\":[\"basketball\", \"reading\", \"food\"], \"family\":{\"father\": \"do1\", \"mother\":\"do2\"}, \"married\": false}'\n",
    "\n",
    "json_data = json.loads(bio)\n",
    "print(type(json_data))\n",
    "print(json_data[\"name\"])\n",
    "print(json_data[\"hobby\"])\n",
    "print(json_data[\"married\"])\n",
    "\n"
   ]
  },
  {
   "cell_type": "code",
   "execution_count": 15,
   "id": "f6a6d255-3071-4441-9088-13dee93451b2",
   "metadata": {},
   "outputs": [
    {
     "name": "stdout",
     "output_type": "stream",
     "text": [
      "12345678[1, 2, 3, 4, 5, 6, 7, 8]\n"
     ]
    }
   ],
   "source": [
    "#1. Loop through a list\n",
    "l1 = [1,2,3,4,5,6,7,8,]\n",
    "l2 = [i for i in l1]\n",
    "for i in l2:\n",
    "    print(i, end='')\n",
    "print(l2)"
   ]
  },
  {
   "cell_type": "code",
   "execution_count": 19,
   "id": "3a7ca8b0-798d-4661-9eb1-99dab39a32a6",
   "metadata": {},
   "outputs": [
    {
     "name": "stdout",
     "output_type": "stream",
     "text": [
      "36\n"
     ]
    }
   ],
   "source": [
    "#2. Sum of all elements in a list\n",
    "l1 = [1,2,3,4,5,6,7,8,]\n",
    "n = 0\n",
    "for i in l1:\n",
    "    n+= i\n",
    "print(n)"
   ]
  },
  {
   "cell_type": "code",
   "execution_count": 31,
   "id": "673ab9ce-60a0-4b62-b2ce-d0925becaf42",
   "metadata": {},
   "outputs": [
    {
     "name": "stdout",
     "output_type": "stream",
     "text": [
      "8\n"
     ]
    }
   ],
   "source": [
    "#3. find maximum value in a list\n",
    "l1 = [[1,2,3],[4,5,6,7,8]]\n",
    "print(max(max(l1)))"
   ]
  },
  {
   "cell_type": "code",
   "execution_count": 37,
   "id": "671b5dde-8ae8-44c6-9806-cfb926418c53",
   "metadata": {},
   "outputs": [
    {
     "data": {
      "text/plain": [
       "[[1, 2, 3], [4, 5, 6, 7, 8]]"
      ]
     },
     "execution_count": 37,
     "metadata": {},
     "output_type": "execute_result"
    }
   ],
   "source": [
    "#4. Sort a list in ascending order\n",
    "sorted(l1)"
   ]
  },
  {
   "cell_type": "code",
   "execution_count": 39,
   "id": "68531f0f-328f-45ce-9b4d-f8d2755f9120",
   "metadata": {},
   "outputs": [
    {
     "data": {
      "text/plain": [
       "[[4, 5, 6, 7, 8], [1, 2, 3]]"
      ]
     },
     "execution_count": 39,
     "metadata": {},
     "output_type": "execute_result"
    }
   ],
   "source": [
    "#5. Sort in descending order\n",
    "sorted(l1, reverse=True)"
   ]
  },
  {
   "cell_type": "code",
   "execution_count": 51,
   "id": "93ffb473-5b65-4abd-b730-bbab66021aee",
   "metadata": {},
   "outputs": [
    {
     "name": "stdout",
     "output_type": "stream",
     "text": [
      "[[4, 5, 6, 7, 8], [1, 2, 3]]\n"
     ]
    }
   ],
   "source": [
    "#6. Reverse a list using slicing\n",
    "l1 = [[1,2,3],[4,5,6,7,8]]\n",
    "l2 = l1[::-1]\n",
    "print(l2)"
   ]
  },
  {
   "cell_type": "code",
   "execution_count": 53,
   "id": "46a19609-cf28-4399-bdf1-0823112fa4db",
   "metadata": {},
   "outputs": [
    {
     "name": "stdout",
     "output_type": "stream",
     "text": [
      "[[1, 2, 3], [4, 13, 6, 7, 8]]\n"
     ]
    }
   ],
   "source": [
    "#7. Insert an element at a particular position\n",
    "l1 = [[1,2,3],[4,5,6,7,8]]\n",
    "l1[1][1] = 13\n",
    "print(l1)"
   ]
  },
  {
   "cell_type": "code",
   "execution_count": 65,
   "id": "2c20c9b4-cf22-425b-84c4-cb143bd824a4",
   "metadata": {},
   "outputs": [
    {
     "name": "stdout",
     "output_type": "stream",
     "text": [
      "[[1, 2, 3], [4, 6, 7, 8]]\n"
     ]
    }
   ],
   "source": [
    "#8. Delete an element from a specific position\n",
    "l1 = [[1,2,3],[4,5,6,7,8]]\n",
    "l1[1].pop(1)\n",
    "print(l1)"
   ]
  },
  {
   "cell_type": "code",
   "execution_count": 3,
   "id": "5e9f7c35-90c4-470b-9eb8-8e01c4966777",
   "metadata": {},
   "outputs": [
    {
     "name": "stdout",
     "output_type": "stream",
     "text": [
      "[1, 2, 3, 3, 4, 4, 5, 7, 8]\n"
     ]
    }
   ],
   "source": [
    "#9 Delete all occurrences of a specific value\n",
    "l1 = [1,2,3,6,6,3,4,4,5,6,7,8]\n",
    "for i in l1:\n",
    "    if l1[i]==6:\n",
    "        l1.pop(i)\n",
    "print(l1)"
   ]
  },
  {
   "cell_type": "code",
   "execution_count": 21,
   "id": "854fe8c8-7762-40c4-9b5b-dfeb9698a9de",
   "metadata": {},
   "outputs": [
    {
     "name": "stdout",
     "output_type": "stream",
     "text": [
      "[1, 2, 3, 6, 6, 3, 4, 4, 5, 6, 7]\n"
     ]
    }
   ],
   "source": [
    "#10. Pop the last element\n",
    "l1 = [1,2,3,6,6,3,4,4,5,6,7,8]\n",
    "l1.pop()\n",
    "print(l1)"
   ]
  },
  {
   "cell_type": "code",
   "execution_count": 33,
   "id": "8c504ee0-9ce9-48fc-99f6-daf82e4771a2",
   "metadata": {},
   "outputs": [
    {
     "name": "stdout",
     "output_type": "stream",
     "text": [
      "[1, 2, 6, 6, 3, 4, 4, 5, 6, 7, 8]\n"
     ]
    }
   ],
   "source": [
    "#11. Pop an element from a specific position\n",
    "l1 = [1,2,3,6,6,3,4,4,5,6,7,8]\n",
    "l1.pop(2)\n",
    "print(l1)"
   ]
  },
  {
   "cell_type": "code",
   "execution_count": 35,
   "id": "951906ca-37f0-4e4f-8f08-cea73564d79c",
   "metadata": {},
   "outputs": [
    {
     "name": "stdout",
     "output_type": "stream",
     "text": [
      "[1, 2, 6, 6, 3, 4, 4, 5, 6, 7, 8, 200]\n"
     ]
    }
   ],
   "source": [
    "#12. Append a value from a list\n",
    "l1.append(200)\n",
    "print(l1)"
   ]
  },
  {
   "cell_type": "code",
   "execution_count": 37,
   "id": "1475a57f-e105-474a-a120-9d92d6daf35c",
   "metadata": {},
   "outputs": [
    {
     "name": "stdout",
     "output_type": "stream",
     "text": [
      "[1, 2, 3, 4, 5, 6]\n"
     ]
    }
   ],
   "source": [
    "#13. Extend a list with another list\n",
    "a = [1,2,3]\n",
    "b = [4,5,6]\n",
    "a.extend(b)\n",
    "print(a)"
   ]
  },
  {
   "cell_type": "code",
   "execution_count": 45,
   "id": "81ecda84-603a-4b4a-a248-f2bfb42cd46d",
   "metadata": {},
   "outputs": [
    {
     "data": {
      "text/plain": [
       "9"
      ]
     },
     "execution_count": 45,
     "metadata": {},
     "output_type": "execute_result"
    }
   ],
   "source": [
    "#14.Find the index of an element in a list\n",
    "l2 = [1, 2, 6, 6, 3, 4, 4, 5, 6, 7, 8, 8,200]\n",
    "l2.index(7)"
   ]
  },
  {
   "cell_type": "code",
   "execution_count": 47,
   "id": "3b4c100e-a020-49a3-911f-028fb237e112",
   "metadata": {},
   "outputs": [
    {
     "name": "stdout",
     "output_type": "stream",
     "text": [
      "[1, 2, 3, 4, 5, 6, 7, 8, 200]\n"
     ]
    }
   ],
   "source": [
    "#15 Remove duplicates from a list\n",
    "new = list(set(l2))\n",
    "print(new)"
   ]
  },
  {
   "cell_type": "code",
   "execution_count": 55,
   "id": "e0f47f61-a4aa-4032-8528-5d7109ecbf6c",
   "metadata": {},
   "outputs": [
    {
     "name": "stdout",
     "output_type": "stream",
     "text": [
      "[1, 2, 6, 3, 4, 5, 7, 8, 200]\n"
     ]
    }
   ],
   "source": [
    "l3 = [1, 2, 6, 6, 3, 4, 4, 5, 6, 7, 8, 8,200]\n",
    "new2 = []\n",
    "for i in l3:\n",
    "    if i not in new2:\n",
    "        new2.append(i)\n",
    "print(new2)"
   ]
  },
  {
   "cell_type": "code",
   "execution_count": null,
   "id": "6034a31b-97bb-43a7-b82b-acd31e95ecae",
   "metadata": {},
   "outputs": [],
   "source": []
  }
 ],
 "metadata": {
  "kernelspec": {
   "display_name": "Python 3 (ipykernel)",
   "language": "python",
   "name": "python3"
  },
  "language_info": {
   "codemirror_mode": {
    "name": "ipython",
    "version": 3
   },
   "file_extension": ".py",
   "mimetype": "text/x-python",
   "name": "python",
   "nbconvert_exporter": "python",
   "pygments_lexer": "ipython3",
   "version": "3.11.7"
  }
 },
 "nbformat": 4,
 "nbformat_minor": 5
}
